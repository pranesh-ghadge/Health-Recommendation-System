{
 "cells": [
  {
   "cell_type": "code",
   "execution_count": 1,
   "id": "f3a82a78",
   "metadata": {},
   "outputs": [],
   "source": [
    "import pandas as pd\n",
    "import numpy as np\n",
    "from math import *\n",
    "import tensorflow as tf\n",
    "from sklearn import ensemble\n",
    "from sklearn import preprocessing\n",
    "from sklearn.model_selection import train_test_split\n",
    "\n",
    "transactions = pd.read_csv('NewData.csv')\n",
    "policies = pd.read_csv('Policy_Info.csv')\n",
    "\n",
    "\n",
    "label_encoder = preprocessing.LabelEncoder()\n",
    "transactions['Gender']= label_encoder.fit_transform(transactions['Gender'])\n",
    "# transactions['Residence']= label_encoder.fit_transform(transactions['Residence'])\n",
    "\n",
    "transactions['PolicyName']= transactions['PolicyName'].str.replace(\"Policy_\", \"\").astype(\"int\")\n",
    "\n",
    "features = []\n",
    "for i in range(1, len(transactions.columns) - 1):\n",
    "    features.append(transactions.columns[i])\n",
    "\n",
    "X = transactions.loc[:, features]\n",
    "y = transactions.loc[:, [\"PolicyName\"]]\n",
    "\n",
    "X_train, X_test, y_train, y_test = train_test_split(X, y, random_state = 3, train_size = .75)\n",
    "\n",
    "rf_clf = ensemble.RandomForestClassifier(n_estimators=100)\n",
    "rf_clf.fit(X, y.values.ravel())\n",
    "\n",
    "\n",
    "label_encoder = preprocessing.LabelEncoder()\n",
    "policies['Maternity']= label_encoder.fit_transform(policies['Maternity'])\n",
    "policies['OPD Benefits']= label_encoder.fit_transform(policies['OPD Benefits'])\n",
    "\n",
    "policies = policies.drop(['Name', 'Insurer'], axis=1)\n",
    "\n",
    "for col in ['Cover(lac)', 'Premium(annual)', 'Pre-Existing Waiting Period', 'ClaimSettlementRatio']:\n",
    "  policies[col] = (policies[col] - policies[col].min()) / (policies[col].max() - policies[col].min())\n",
    "\n",
    "policies = policies.set_index('PolicyName')\n",
    "\n",
    "def euclidean_dist(x, y):\n",
    "  return sqrt(sum(pow(a-b,2) for a, b in zip(x, y)))\n",
    "\n",
    "def similarityIn(polA, polB):\n",
    "  lA = []\n",
    "  lB = []\n",
    "  for i in policies.loc[polA]:\n",
    "    lA.append(i)\n",
    "  for i in policies.loc[polB]:\n",
    "    lB.append(i)\n",
    "  return euclidean_dist(lA, lB)\n",
    "\n",
    "def nextTwo(policy):\n",
    "  dict = {}\n",
    "  for pol in policies.index:\n",
    "    dict[pol] = similarityIn(pol, policy)\n",
    "  topOne = max(dict, key=dict.get)\n",
    "  dict.pop(topOne)\n",
    "  topTwo = max(dict, key=dict.get)\n",
    "  dict.pop(topTwo)\n",
    "  ans = [topOne, topTwo]\n",
    "  return ans"
   ]
  },
  {
   "cell_type": "code",
   "execution_count": 2,
   "id": "2418e17f",
   "metadata": {},
   "outputs": [
    {
     "data": {
      "text/plain": [
       "0.944"
      ]
     },
     "execution_count": 2,
     "metadata": {},
     "output_type": "execute_result"
    }
   ],
   "source": [
    "rf_clf.score(X_test,y_test)"
   ]
  },
  {
   "cell_type": "code",
   "execution_count": null,
   "id": "fcc1487c",
   "metadata": {},
   "outputs": [],
   "source": []
  },
  {
   "cell_type": "code",
   "execution_count": null,
   "id": "0e21de03",
   "metadata": {},
   "outputs": [],
   "source": []
  }
 ],
 "metadata": {
  "kernelspec": {
   "display_name": "Python 3 (ipykernel)",
   "language": "python",
   "name": "python3"
  },
  "language_info": {
   "codemirror_mode": {
    "name": "ipython",
    "version": 3
   },
   "file_extension": ".py",
   "mimetype": "text/x-python",
   "name": "python",
   "nbconvert_exporter": "python",
   "pygments_lexer": "ipython3",
   "version": "3.10.5"
  }
 },
 "nbformat": 4,
 "nbformat_minor": 5
}
